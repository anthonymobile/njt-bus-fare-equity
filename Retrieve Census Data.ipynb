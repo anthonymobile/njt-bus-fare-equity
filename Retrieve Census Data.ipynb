{
 "cells": [
  {
   "cell_type": "markdown",
   "id": "2b9f0ecd",
   "metadata": {},
   "source": [
    "# Retrieve Census Data"
   ]
  },
  {
   "cell_type": "code",
   "execution_count": 1,
   "id": "61119d51",
   "metadata": {},
   "outputs": [],
   "source": [
    "import fiona\n",
    "import pandas as pd\n",
    "import numpy as np\n",
    "import geopandas as gpd\n",
    "import requests\n",
    "import pickle"
   ]
  },
  {
   "cell_type": "code",
   "execution_count": 2,
   "id": "4a89b300",
   "metadata": {},
   "outputs": [
    {
     "name": "stdout",
     "output_type": "stream",
     "text": [
      "494f201c0638a5f1c615209eedee3711d608203d\n"
     ]
    }
   ],
   "source": [
    "import os\n",
    "from dotenv import load_dotenv\n",
    "\n",
    "load_dotenv()\n",
    "\n",
    "api_key = os.getenv('CENSUS_API_KEY')\n",
    "print(api_key)"
   ]
  },
  {
   "cell_type": "code",
   "execution_count": 3,
   "id": "171a122c",
   "metadata": {},
   "outputs": [],
   "source": [
    "nj_tract_table_picklefile_path = 'data/nj_tract_data.pkl'"
   ]
  },
  {
   "cell_type": "code",
   "execution_count": 4,
   "id": "2f2691b1",
   "metadata": {},
   "outputs": [],
   "source": [
    "#specify the data source by year and survey\n",
    "year = '2022'\n",
    "dsource = 'acs' #American Community Survey\n",
    "dname = 'acs5' #5 year average from American Community Survey\n",
    "base_url = f'https://api.census.gov/data/{year}/{dsource}/{dname}'\n"
   ]
  },
  {
   "cell_type": "code",
   "execution_count": 5,
   "id": "75e81aad",
   "metadata": {},
   "outputs": [],
   "source": [
    "# this request\n",
    "cols = 'NAME,B01003_001E,B02001_002E,B19013_001E' #NAME of geography as well as the variables I want to pull"
   ]
  },
  {
   "cell_type": "code",
   "execution_count": 6,
   "id": "1f2b24fd",
   "metadata": {},
   "outputs": [],
   "source": [
    "# create picklefile nj_tract_table\n",
    "\n",
    "def make_nj_tract_table():\n",
    "\n",
    "    # load fips codes and iterate over counties to build up statewide dataframe\n",
    "    fips_list = pd.read_csv(\"data/nj_county_fips.csv\", dtype=object)\n",
    "\n",
    "    county_dfs = []\n",
    "\n",
    "    for index,county in fips_list.iterrows():\n",
    "\n",
    "        geo = 'tract' #county geography level\n",
    "        state = f'state:{county.fips_state}' \n",
    "        county = f'county:{county.fips_county}' \n",
    "\n",
    "        #add unique request features to the base_url\n",
    "        data_url = f'{base_url}?get={cols}&for={geo}&in={state}&in={county}&key={api_key}'\n",
    "\n",
    "\n",
    "        #go get the data + make df\n",
    "        response = requests.get(data_url)\n",
    "        data = response.json()\n",
    "\n",
    "        df = (pd.DataFrame(data = data[1:], columns = data[0]) #first row is column names, everything else is data.\n",
    "                .rename(columns = {'NAME' : 'tract_name',\n",
    "                                   'B01003_001E' : 'population',\n",
    "                                   'B02001_002E' : 'population_white_alone',\n",
    "                                   'B19013_001E' : 'med_hh_inc',\n",
    "                                   'state' : 'state_fips',\n",
    "                                   'county' : 'county_fips',\n",
    "                                   'tract' : 'tract_fips'}))\n",
    "\n",
    "        #the fips for a tract is a concatenation of state, county, and tract fips\n",
    "        df['fips'] = df['state_fips'] + df['county_fips'] + df['tract_fips'] #make sure these are strings so it concatenates and doesn't add. \n",
    "\n",
    "        #changing the data to be numeric, since everything starts as string\n",
    "        df[['population', 'population_white_alone', 'med_hh_inc']] = df[['population', 'population_white_alone', 'med_hh_inc']].apply(pd.to_numeric)\n",
    "\n",
    "        print(f\"Fetched {df.size} tracts for {county}\")\n",
    "        county_dfs.append(df)\n",
    "\n",
    "    # combine\n",
    "    return pd.concat(county_dfs)\n",
    "\n"
   ]
  },
  {
   "cell_type": "code",
   "execution_count": 7,
   "id": "4a228d1e",
   "metadata": {},
   "outputs": [
    {
     "name": "stdout",
     "output_type": "stream",
     "text": [
      "The file 'data/nj_tract_table_pickle.pkl' does not exist. Fetching data\n",
      "Fetched 592 tracts for county:001\n",
      "Fetched 1624 tracts for county:003\n",
      "Fetched 936 tracts for county:005\n",
      "Fetched 1032 tracts for county:007\n",
      "Fetched 264 tracts for county:009\n",
      "Fetched 336 tracts for county:011\n",
      "Fetched 1688 tracts for county:013\n",
      "Fetched 552 tracts for county:015\n",
      "Fetched 1464 tracts for county:017\n",
      "Fetched 240 tracts for county:019\n",
      "Fetched 672 tracts for county:021\n",
      "Fetched 1536 tracts for county:023\n",
      "Fetched 1240 tracts for county:025\n",
      "Fetched 880 tracts for county:027\n",
      "Fetched 1160 tracts for county:029\n",
      "Fetched 960 tracts for county:031\n",
      "Fetched 200 tracts for county:033\n",
      "Fetched 592 tracts for county:035\n",
      "Fetched 336 tracts for county:037\n",
      "Fetched 960 tracts for county:039\n",
      "Fetched 184 tracts for county:041\n"
     ]
    }
   ],
   "source": [
    "# load or create the nj_tract_table statewide tract-level demographics\n",
    "\n",
    "# If the file exists, load the DataFrame\n",
    "if os.path.exists(nj_tract_table_picklefile_path ):\n",
    "\n",
    "    with open(nj_tract_table_picklefile_path , 'rb') as file:\n",
    "        nj_tract_table = pickle.load(file)\n",
    "        print(f\"Loaded {nj_tract_table.size} tracts.\")\n",
    "\n",
    "# Else fetch the data and pickle it\n",
    "else:\n",
    "    print(f\"The file '{nj_tract_table_picklefile_path}' does not exist. Fetching data\")\n",
    "    nj_tract_table = make_nj_tract_table()\n",
    "    with open(nj_tract_table_picklefile_path, 'wb') as file:\n",
    "        pickle.dump(nj_tract_table, file)\n",
    "    \n",
    "\n"
   ]
  }
 ],
 "metadata": {
  "kernelspec": {
   "display_name": "Python [conda env:njtransit]",
   "language": "python",
   "name": "conda-env-njtransit-py"
  },
  "language_info": {
   "codemirror_mode": {
    "name": "ipython",
    "version": 3
   },
   "file_extension": ".py",
   "mimetype": "text/x-python",
   "name": "python",
   "nbconvert_exporter": "python",
   "pygments_lexer": "ipython3",
   "version": "3.10.0"
  }
 },
 "nbformat": 4,
 "nbformat_minor": 5
}
